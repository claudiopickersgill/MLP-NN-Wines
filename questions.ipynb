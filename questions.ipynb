{
 "cells": [
  {
   "attachments": {},
   "cell_type": "markdown",
   "metadata": {},
   "source": [
    "### 1) Escolha uma base de dados. Essa base deve ser multivariada e possuir uma variável objetivo, que pode ser usada na fase de treino (modelos supervisionados) e/ou na validação do modelo (modelos supervisionados e não-supervisionados).\n",
    "##### OBS: Caso você não possua uma base, utilize a base de dados de vinho brancos. Considere bons vinhos aqueles que obtiveram notas >= 6. Como motivo da escolha (questão 2.a) apenas indique utilizou a base proposta pelo professor. <br/>\n"
   ]
  },
  {
   "attachments": {},
   "cell_type": "markdown",
   "metadata": {},
   "source": [
    "### 2) A partir da base escolhida, você irá aplicar as etapas do modelo CRISP de desenvolvimento de projetos em Ciência de Dados:\n",
    "    a. Explique a origem dos dados e o motivo para a escolha. Descreva, também, como os dados foram obtidos. Essa é a fase de COMPREENSÃO DO NEGÓCIO.\n",
    "        - A base utilizada foi a de Vinhos Verdes Brancos utilizada em outros exercícios. Disponível em: http://repositorium.sdum.uminho.pt/handle/1822/10029\n",
    "\n",
    "    b. Descreva as variáveis do problema e o tipo de cada uma (categórica ou numérica). Mostre a distribuição (usando um histograma) para cada uma delas. Comente sobre a faixa dinâmica de cada uma delas. Essa é a fase de COMPREENSÃO DOS DADOS.\n",
    "        - As respostas para essa questão estão em nn-mlp.ipynb \n",
    "\n",
    "    c. Descreva o objetivo do modelo que será criado neste projeto.\n",
    "        - O modelo tem como objetivo fazer a classificação de vinhos verdes brancos entre bons e ruins a partir das caracteristicas dos mesmos, através de redes neurais.\n",
    "    d. Agora faça o tratamento de dados necessários para o treinamento: escalonamento, normalização, transformação de variável (ex: aplicar a função log em uma variável com distribuição exponencial), separação entre treino e teste… Você deve optar pelas tarefas necessárias, descrevendo cada uma delas e justificando o motivo. Essa é a fase PREPARAÇÃO DOS DADOS.\n",
    "\n",
    "    e. Agora defina o modelo de redes neural do tipo MLP que você irá utilizar. Essa é a fase de MODELAGEM:\n",
    "        I. Quantas camadas?\n",
    "            - São 4 camadas ao total     \n",
    "\n",
    "        II. Quantos neurônios na camada de entrada?\n",
    "            - Uma camada de entrada com 11 inputs\n",
    "\n",
    "        III.Quantos neurônios na camada de saída? Justifique.\n",
    "            - Uma camada de saída com input booleano\n",
    "\n",
    "        IV.Quantos números de neurônios na camada intermediária? Como esse número foi escolhido?\n",
    "            - São duas camadas intermediárias. Uma com 50, e outra com 30 neurôniios. Os números foram aleatórios. O correto é fazer mais testes, com configurações diferentes, para obter o melhor resultado.\n",
    "\n",
    "        V. Qual será o algoritmo utilizado no treinamento?\n",
    "            MLPClassifier (SK-Learn)\n",
    "\n",
    "        VI. Qual a função de ativação será utilizada em cada camada? Justifique.\n",
    "            'tanh' pois se mostrou a que melhor resolve o problema (melhor resultado entre os avaliados)\n",
    "\n",
    "        VII. Qual a função de otimização será utilizada neste treinamento?\n",
    "            'adam' pois se mostrou a melhor opção entre 'sgd' e 'lbfgs'\n",
    "\n",
    "        VIII. Quais serão as figuras de mérito que serão usadas na avaliação do modelo. Justifique.\n",
    "            Analisamos acurácia, precisão e recall dos dados. Queremos ter a melhor acurácia possível. Pois queremos acertar os vinhos bons.\n",
    "\n",
    "    f. Apresente os seguintes resultados:\n",
    "        I. A matriz de confusão do problema\n",
    "            Olhar nn-mlp.ipynb\n",
    "\n",
    "        II. O(s) histograma(s) da(s) saída(s) da rede neural\n",
    "            Olhar nn-mlp.ipynb\n",
    "\n",
    "        III. Os valores das figuras de métrica utilizadas.\n",
    "            Olhar nn-mlp.ipynb\n",
    "\n",
    "        IV. Caso tenha utilizado validação cruzada no treino, apresente as incertezas para cada um dos resultados anteriores.\n",
    "            Não foi usado, pois a base de teste é pequena\n",
    "            \n",
    "    g. Avalie os resultados, dando sua interpretação de acordo com a compreensão da natureza do problema proposto. Essa é a fase de AVALIAÇÃO DO MODELO.\n",
    "        De acordo com os resultados, e os resultados de outros classificadores feitos anteriormente, o modelo SCV ainda é o melhor modelo para a categorização de vinhos verdes brancos. A rede neural se aproximou dos resultados do modelo SCV, mas não o suficiente. Modelos de redes neurais são melhores em base de dados menores, onde fica dificil a compreensão das variáveis devido ao tamanho. Em base de dados menores (tanto em quantidade de observações, quanto features) modelos de ML, as vezes, funcionam melhor. \n",
    "        Neste estudo de caso, não foi usado modelos de RN do TensorFlow (Keras) ou outros existentes. Optei por usar o modelo do Sk-Learn"
   ]
  }
 ],
 "metadata": {
  "language_info": {
   "name": "python"
  },
  "orig_nbformat": 4
 },
 "nbformat": 4,
 "nbformat_minor": 2
}
